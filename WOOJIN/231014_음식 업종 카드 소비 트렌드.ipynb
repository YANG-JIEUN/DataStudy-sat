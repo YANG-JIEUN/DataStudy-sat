{
 "cells": [
  {
   "cell_type": "markdown",
   "id": "07e351b5",
   "metadata": {},
   "source": [
    "# 음식 업종 카드 소비 트렌드"
   ]
  },
  {
   "cell_type": "markdown",
   "id": "6a20357c",
   "metadata": {},
   "source": [
    "## 데이터 로딩 및 특성 확인"
   ]
  },
  {
   "cell_type": "code",
   "execution_count": 1,
   "id": "980277f3",
   "metadata": {
    "ExecuteTime": {
     "end_time": "2023-10-14T00:38:33.208782Z",
     "start_time": "2023-10-14T00:38:30.284985Z"
    }
   },
   "outputs": [
    {
     "data": {
      "text/html": [
       "<div>\n",
       "<style scoped>\n",
       "    .dataframe tbody tr th:only-of-type {\n",
       "        vertical-align: middle;\n",
       "    }\n",
       "\n",
       "    .dataframe tbody tr th {\n",
       "        vertical-align: top;\n",
       "    }\n",
       "\n",
       "    .dataframe thead th {\n",
       "        text-align: right;\n",
       "    }\n",
       "</style>\n",
       "<table border=\"1\" class=\"dataframe\">\n",
       "  <thead>\n",
       "    <tr style=\"text-align: right;\">\n",
       "      <th></th>\n",
       "      <th>crym</th>\n",
       "      <th>tco_btc_nm</th>\n",
       "      <th>ma_fem_dc</th>\n",
       "      <th>agegrp_dc</th>\n",
       "      <th>tco_btc_u_ct</th>\n",
       "      <th>tco_btc_u_am</th>\n",
       "    </tr>\n",
       "  </thead>\n",
       "  <tbody>\n",
       "    <tr>\n",
       "      <th>0</th>\n",
       "      <td>201901</td>\n",
       "      <td>한식</td>\n",
       "      <td>1</td>\n",
       "      <td>1</td>\n",
       "      <td>7</td>\n",
       "      <td>2.392000e+05</td>\n",
       "    </tr>\n",
       "    <tr>\n",
       "      <th>1</th>\n",
       "      <td>201901</td>\n",
       "      <td>한식</td>\n",
       "      <td>1</td>\n",
       "      <td>10</td>\n",
       "      <td>1618</td>\n",
       "      <td>4.671496e+07</td>\n",
       "    </tr>\n",
       "    <tr>\n",
       "      <th>2</th>\n",
       "      <td>201901</td>\n",
       "      <td>한식</td>\n",
       "      <td>1</td>\n",
       "      <td>20</td>\n",
       "      <td>150194</td>\n",
       "      <td>4.961334e+09</td>\n",
       "    </tr>\n",
       "    <tr>\n",
       "      <th>3</th>\n",
       "      <td>201901</td>\n",
       "      <td>한식</td>\n",
       "      <td>1</td>\n",
       "      <td>30</td>\n",
       "      <td>564787</td>\n",
       "      <td>2.006319e+10</td>\n",
       "    </tr>\n",
       "    <tr>\n",
       "      <th>4</th>\n",
       "      <td>201901</td>\n",
       "      <td>한식</td>\n",
       "      <td>1</td>\n",
       "      <td>40</td>\n",
       "      <td>817438</td>\n",
       "      <td>2.954471e+10</td>\n",
       "    </tr>\n",
       "    <tr>\n",
       "      <th>...</th>\n",
       "      <td>...</td>\n",
       "      <td>...</td>\n",
       "      <td>...</td>\n",
       "      <td>...</td>\n",
       "      <td>...</td>\n",
       "      <td>...</td>\n",
       "    </tr>\n",
       "    <tr>\n",
       "      <th>3776</th>\n",
       "      <td>202109</td>\n",
       "      <td>패밀리레스토랑</td>\n",
       "      <td>2</td>\n",
       "      <td>50</td>\n",
       "      <td>15439</td>\n",
       "      <td>4.351737e+08</td>\n",
       "    </tr>\n",
       "    <tr>\n",
       "      <th>3777</th>\n",
       "      <td>202109</td>\n",
       "      <td>패밀리레스토랑</td>\n",
       "      <td>2</td>\n",
       "      <td>60</td>\n",
       "      <td>4330</td>\n",
       "      <td>1.195975e+08</td>\n",
       "    </tr>\n",
       "    <tr>\n",
       "      <th>3778</th>\n",
       "      <td>202109</td>\n",
       "      <td>패밀리레스토랑</td>\n",
       "      <td>2</td>\n",
       "      <td>70</td>\n",
       "      <td>869</td>\n",
       "      <td>2.529147e+07</td>\n",
       "    </tr>\n",
       "    <tr>\n",
       "      <th>3779</th>\n",
       "      <td>202109</td>\n",
       "      <td>패밀리레스토랑</td>\n",
       "      <td>2</td>\n",
       "      <td>80</td>\n",
       "      <td>155</td>\n",
       "      <td>4.952434e+06</td>\n",
       "    </tr>\n",
       "    <tr>\n",
       "      <th>3780</th>\n",
       "      <td>202109</td>\n",
       "      <td>패밀리레스토랑</td>\n",
       "      <td>2</td>\n",
       "      <td>90</td>\n",
       "      <td>10</td>\n",
       "      <td>3.430100e+05</td>\n",
       "    </tr>\n",
       "  </tbody>\n",
       "</table>\n",
       "<p>3781 rows × 6 columns</p>\n",
       "</div>"
      ],
      "text/plain": [
       "        crym tco_btc_nm  ma_fem_dc  agegrp_dc  tco_btc_u_ct  tco_btc_u_am\n",
       "0     201901         한식          1          1             7  2.392000e+05\n",
       "1     201901         한식          1         10          1618  4.671496e+07\n",
       "2     201901         한식          1         20        150194  4.961334e+09\n",
       "3     201901         한식          1         30        564787  2.006319e+10\n",
       "4     201901         한식          1         40        817438  2.954471e+10\n",
       "...      ...        ...        ...        ...           ...           ...\n",
       "3776  202109    패밀리레스토랑          2         50         15439  4.351737e+08\n",
       "3777  202109    패밀리레스토랑          2         60          4330  1.195975e+08\n",
       "3778  202109    패밀리레스토랑          2         70           869  2.529147e+07\n",
       "3779  202109    패밀리레스토랑          2         80           155  4.952434e+06\n",
       "3780  202109    패밀리레스토랑          2         90            10  3.430100e+05\n",
       "\n",
       "[3781 rows x 6 columns]"
      ]
     },
     "execution_count": 1,
     "metadata": {},
     "output_type": "execute_result"
    }
   ],
   "source": [
    "import pandas as pd\n",
    "import numpy as np\n",
    "import matplotlib.pyplot as plt\n",
    "import scipy.stats as stats\n",
    "\n",
    "df = pd.read_csv('음식+업종(한식,일식,+중식,+양식,+패스트푸드점)+카드소비트렌드+데이터_1901_2109.csv', encoding='cp949')\n",
    "df"
   ]
  },
  {
   "cell_type": "markdown",
   "id": "11bfecbe",
   "metadata": {},
   "source": [
    "본 데이터셋에서 가장 중요한 것은 ```tco_btc_u_ct```(결제 횟수)와 ```tco_btc_u_am```(결제 금액)일 것이다."
   ]
  },
  {
   "cell_type": "code",
   "execution_count": 2,
   "id": "19c37a2b",
   "metadata": {
    "ExecuteTime": {
     "end_time": "2023-10-14T00:38:33.224782Z",
     "start_time": "2023-10-14T00:38:33.209782Z"
    }
   },
   "outputs": [
    {
     "data": {
      "text/plain": [
       "259649957"
      ]
     },
     "execution_count": 2,
     "metadata": {},
     "output_type": "execute_result"
    }
   ],
   "source": [
    "df['tco_btc_u_ct'].sum()"
   ]
  },
  {
   "cell_type": "markdown",
   "id": "5933fd4b",
   "metadata": {},
   "source": [
    "집계 기간 동안의 카드 결제 횟수는 약 2억 6천만 건"
   ]
  },
  {
   "cell_type": "code",
   "execution_count": 3,
   "id": "46192fd5",
   "metadata": {
    "ExecuteTime": {
     "end_time": "2023-10-14T00:38:33.240782Z",
     "start_time": "2023-10-14T00:38:33.225782Z"
    }
   },
   "outputs": [
    {
     "data": {
      "text/plain": [
       "7709140233637.0"
      ]
     },
     "execution_count": 3,
     "metadata": {},
     "output_type": "execute_result"
    }
   ],
   "source": [
    "df['tco_btc_u_am'].sum()"
   ]
  },
  {
   "cell_type": "markdown",
   "id": "c2a652ec",
   "metadata": {},
   "source": [
    "집계 기간 동안의 카드 결제 금액은 약 7조 7100억 원"
   ]
  },
  {
   "cell_type": "code",
   "execution_count": 4,
   "id": "298eded4",
   "metadata": {
    "ExecuteTime": {
     "end_time": "2023-10-14T00:38:33.256782Z",
     "start_time": "2023-10-14T00:38:33.242782Z"
    }
   },
   "outputs": [
    {
     "data": {
      "text/plain": [
       "array([201901, 201902, 201903, 201904, 201905, 201906, 201907, 201908,\n",
       "       201909, 201910, 201911, 201912, 202001, 202002, 202003, 202004,\n",
       "       202005, 202006, 202007, 202008, 202009, 202010, 202011, 202012,\n",
       "       202101, 202102, 202103, 202104, 202105, 202106, 202107, 202108,\n",
       "       202109], dtype=int64)"
      ]
     },
     "execution_count": 4,
     "metadata": {},
     "output_type": "execute_result"
    }
   ],
   "source": [
    "df['crym'].unique()"
   ]
  },
  {
   "cell_type": "markdown",
   "id": "21972c4b",
   "metadata": {},
   "source": [
    "2019년 1월부터 2021년 9월까지의 데이터 (2021년은 **연말까지가 아님**)"
   ]
  },
  {
   "cell_type": "code",
   "execution_count": 5,
   "id": "357b2d9e",
   "metadata": {
    "ExecuteTime": {
     "end_time": "2023-10-14T00:38:33.272275Z",
     "start_time": "2023-10-14T00:38:33.257793Z"
    }
   },
   "outputs": [
    {
     "data": {
      "text/plain": [
       "array(['한식', '일식', '중식', '양식', '패스트푸드점', '패밀리레스토랑'], dtype=object)"
      ]
     },
     "execution_count": 5,
     "metadata": {},
     "output_type": "execute_result"
    }
   ],
   "source": [
    "df['tco_btc_nm'].unique()"
   ]
  },
  {
   "cell_type": "markdown",
   "id": "c3611a4b",
   "metadata": {},
   "source": [
    "한식, 일식, 중식, 양식, 패스트푸드점, 패밀리레스토랑의 6개 분류에 대한 데이터"
   ]
  },
  {
   "cell_type": "code",
   "execution_count": 6,
   "id": "2bf518da",
   "metadata": {
    "ExecuteTime": {
     "end_time": "2023-10-14T00:38:33.288281Z",
     "start_time": "2023-10-14T00:38:33.273275Z"
    }
   },
   "outputs": [
    {
     "data": {
      "text/plain": [
       "array([ 1, 10, 20, 30, 40, 50, 60, 70, 80, 90,  0], dtype=int64)"
      ]
     },
     "execution_count": 6,
     "metadata": {},
     "output_type": "execute_result"
    }
   ],
   "source": [
    "df['agegrp_dc'].unique()"
   ]
  },
  {
   "cell_type": "markdown",
   "id": "970fe3a4",
   "metadata": {},
   "source": [
    "0은 뭔데..."
   ]
  },
  {
   "cell_type": "code",
   "execution_count": 7,
   "id": "41c06fab",
   "metadata": {
    "ExecuteTime": {
     "end_time": "2023-10-14T00:38:33.304280Z",
     "start_time": "2023-10-14T00:38:33.290280Z"
    }
   },
   "outputs": [
    {
     "data": {
      "text/plain": [
       "10    396\n",
       "20    396\n",
       "30    396\n",
       "40    396\n",
       "50    396\n",
       "60    396\n",
       "70    396\n",
       "80    396\n",
       "90    394\n",
       "0     196\n",
       "1      23\n",
       "Name: agegrp_dc, dtype: int64"
      ]
     },
     "execution_count": 7,
     "metadata": {},
     "output_type": "execute_result"
    }
   ],
   "source": [
    "df['agegrp_dc'].value_counts()"
   ]
  },
  {
   "cell_type": "code",
   "execution_count": 8,
   "id": "bd6f35b7",
   "metadata": {
    "ExecuteTime": {
     "end_time": "2023-10-14T00:38:33.319890Z",
     "start_time": "2023-10-14T00:38:33.305280Z"
    }
   },
   "outputs": [
    {
     "data": {
      "text/html": [
       "<div>\n",
       "<style scoped>\n",
       "    .dataframe tbody tr th:only-of-type {\n",
       "        vertical-align: middle;\n",
       "    }\n",
       "\n",
       "    .dataframe tbody tr th {\n",
       "        vertical-align: top;\n",
       "    }\n",
       "\n",
       "    .dataframe thead th {\n",
       "        text-align: right;\n",
       "    }\n",
       "</style>\n",
       "<table border=\"1\" class=\"dataframe\">\n",
       "  <thead>\n",
       "    <tr style=\"text-align: right;\">\n",
       "      <th></th>\n",
       "      <th>crym</th>\n",
       "      <th>tco_btc_nm</th>\n",
       "      <th>ma_fem_dc</th>\n",
       "      <th>agegrp_dc</th>\n",
       "      <th>tco_btc_u_ct</th>\n",
       "      <th>tco_btc_u_am</th>\n",
       "    </tr>\n",
       "  </thead>\n",
       "  <tbody>\n",
       "    <tr>\n",
       "      <th>111</th>\n",
       "      <td>201902</td>\n",
       "      <td>한식</td>\n",
       "      <td>1</td>\n",
       "      <td>0</td>\n",
       "      <td>1</td>\n",
       "      <td>8000.0</td>\n",
       "    </tr>\n",
       "    <tr>\n",
       "      <th>230</th>\n",
       "      <td>201903</td>\n",
       "      <td>한식</td>\n",
       "      <td>2</td>\n",
       "      <td>0</td>\n",
       "      <td>1</td>\n",
       "      <td>18000.0</td>\n",
       "    </tr>\n",
       "    <tr>\n",
       "      <th>294</th>\n",
       "      <td>201903</td>\n",
       "      <td>패스트푸드점</td>\n",
       "      <td>1</td>\n",
       "      <td>0</td>\n",
       "      <td>1</td>\n",
       "      <td>8600.0</td>\n",
       "    </tr>\n",
       "    <tr>\n",
       "      <th>368</th>\n",
       "      <td>201904</td>\n",
       "      <td>중식</td>\n",
       "      <td>1</td>\n",
       "      <td>0</td>\n",
       "      <td>1</td>\n",
       "      <td>10000.0</td>\n",
       "    </tr>\n",
       "    <tr>\n",
       "      <th>441</th>\n",
       "      <td>201905</td>\n",
       "      <td>한식</td>\n",
       "      <td>1</td>\n",
       "      <td>0</td>\n",
       "      <td>5</td>\n",
       "      <td>167000.0</td>\n",
       "    </tr>\n",
       "    <tr>\n",
       "      <th>...</th>\n",
       "      <td>...</td>\n",
       "      <td>...</td>\n",
       "      <td>...</td>\n",
       "      <td>...</td>\n",
       "      <td>...</td>\n",
       "      <td>...</td>\n",
       "    </tr>\n",
       "    <tr>\n",
       "      <th>3713</th>\n",
       "      <td>202109</td>\n",
       "      <td>중식</td>\n",
       "      <td>2</td>\n",
       "      <td>0</td>\n",
       "      <td>8</td>\n",
       "      <td>97700.0</td>\n",
       "    </tr>\n",
       "    <tr>\n",
       "      <th>3723</th>\n",
       "      <td>202109</td>\n",
       "      <td>양식</td>\n",
       "      <td>1</td>\n",
       "      <td>0</td>\n",
       "      <td>2</td>\n",
       "      <td>30000.0</td>\n",
       "    </tr>\n",
       "    <tr>\n",
       "      <th>3733</th>\n",
       "      <td>202109</td>\n",
       "      <td>양식</td>\n",
       "      <td>2</td>\n",
       "      <td>0</td>\n",
       "      <td>2</td>\n",
       "      <td>55000.0</td>\n",
       "    </tr>\n",
       "    <tr>\n",
       "      <th>3743</th>\n",
       "      <td>202109</td>\n",
       "      <td>패스트푸드점</td>\n",
       "      <td>1</td>\n",
       "      <td>0</td>\n",
       "      <td>2</td>\n",
       "      <td>17800.0</td>\n",
       "    </tr>\n",
       "    <tr>\n",
       "      <th>3753</th>\n",
       "      <td>202109</td>\n",
       "      <td>패스트푸드점</td>\n",
       "      <td>2</td>\n",
       "      <td>0</td>\n",
       "      <td>3</td>\n",
       "      <td>22100.0</td>\n",
       "    </tr>\n",
       "  </tbody>\n",
       "</table>\n",
       "<p>196 rows × 6 columns</p>\n",
       "</div>"
      ],
      "text/plain": [
       "        crym tco_btc_nm  ma_fem_dc  agegrp_dc  tco_btc_u_ct  tco_btc_u_am\n",
       "111   201902         한식          1          0             1        8000.0\n",
       "230   201903         한식          2          0             1       18000.0\n",
       "294   201903     패스트푸드점          1          0             1        8600.0\n",
       "368   201904         중식          1          0             1       10000.0\n",
       "441   201905         한식          1          0             5      167000.0\n",
       "...      ...        ...        ...        ...           ...           ...\n",
       "3713  202109         중식          2          0             8       97700.0\n",
       "3723  202109         양식          1          0             2       30000.0\n",
       "3733  202109         양식          2          0             2       55000.0\n",
       "3743  202109     패스트푸드점          1          0             2       17800.0\n",
       "3753  202109     패스트푸드점          2          0             3       22100.0\n",
       "\n",
       "[196 rows x 6 columns]"
      ]
     },
     "execution_count": 8,
     "metadata": {},
     "output_type": "execute_result"
    }
   ],
   "source": [
    "df[df['agegrp_dc'] == 0]"
   ]
  },
  {
   "cell_type": "code",
   "execution_count": 9,
   "id": "95a20910",
   "metadata": {
    "ExecuteTime": {
     "end_time": "2023-10-14T00:38:33.335889Z",
     "start_time": "2023-10-14T00:38:33.320891Z"
    }
   },
   "outputs": [
    {
     "data": {
      "text/html": [
       "<div>\n",
       "<style scoped>\n",
       "    .dataframe tbody tr th:only-of-type {\n",
       "        vertical-align: middle;\n",
       "    }\n",
       "\n",
       "    .dataframe tbody tr th {\n",
       "        vertical-align: top;\n",
       "    }\n",
       "\n",
       "    .dataframe thead th {\n",
       "        text-align: right;\n",
       "    }\n",
       "</style>\n",
       "<table border=\"1\" class=\"dataframe\">\n",
       "  <thead>\n",
       "    <tr style=\"text-align: right;\">\n",
       "      <th></th>\n",
       "      <th>crym</th>\n",
       "      <th>tco_btc_nm</th>\n",
       "      <th>ma_fem_dc</th>\n",
       "      <th>agegrp_dc</th>\n",
       "      <th>tco_btc_u_ct</th>\n",
       "      <th>tco_btc_u_am</th>\n",
       "    </tr>\n",
       "  </thead>\n",
       "  <tbody>\n",
       "    <tr>\n",
       "      <th>0</th>\n",
       "      <td>201901</td>\n",
       "      <td>한식</td>\n",
       "      <td>1</td>\n",
       "      <td>1</td>\n",
       "      <td>7</td>\n",
       "      <td>239200.0</td>\n",
       "    </tr>\n",
       "    <tr>\n",
       "      <th>19</th>\n",
       "      <td>201901</td>\n",
       "      <td>일식</td>\n",
       "      <td>1</td>\n",
       "      <td>1</td>\n",
       "      <td>1</td>\n",
       "      <td>81000.0</td>\n",
       "    </tr>\n",
       "    <tr>\n",
       "      <th>38</th>\n",
       "      <td>201901</td>\n",
       "      <td>중식</td>\n",
       "      <td>1</td>\n",
       "      <td>1</td>\n",
       "      <td>1</td>\n",
       "      <td>16000.0</td>\n",
       "    </tr>\n",
       "    <tr>\n",
       "      <th>84</th>\n",
       "      <td>201901</td>\n",
       "      <td>패스트푸드점</td>\n",
       "      <td>2</td>\n",
       "      <td>1</td>\n",
       "      <td>3</td>\n",
       "      <td>16400.0</td>\n",
       "    </tr>\n",
       "    <tr>\n",
       "      <th>220</th>\n",
       "      <td>201903</td>\n",
       "      <td>한식</td>\n",
       "      <td>1</td>\n",
       "      <td>1</td>\n",
       "      <td>1</td>\n",
       "      <td>26000.0</td>\n",
       "    </tr>\n",
       "    <tr>\n",
       "      <th>304</th>\n",
       "      <td>201903</td>\n",
       "      <td>패스트푸드점</td>\n",
       "      <td>2</td>\n",
       "      <td>1</td>\n",
       "      <td>2</td>\n",
       "      <td>6500.0</td>\n",
       "    </tr>\n",
       "    <tr>\n",
       "      <th>331</th>\n",
       "      <td>201904</td>\n",
       "      <td>한식</td>\n",
       "      <td>1</td>\n",
       "      <td>1</td>\n",
       "      <td>3</td>\n",
       "      <td>50000.0</td>\n",
       "    </tr>\n",
       "    <tr>\n",
       "      <th>442</th>\n",
       "      <td>201905</td>\n",
       "      <td>한식</td>\n",
       "      <td>1</td>\n",
       "      <td>1</td>\n",
       "      <td>4</td>\n",
       "      <td>148000.0</td>\n",
       "    </tr>\n",
       "    <tr>\n",
       "      <th>499</th>\n",
       "      <td>201905</td>\n",
       "      <td>양식</td>\n",
       "      <td>1</td>\n",
       "      <td>1</td>\n",
       "      <td>1</td>\n",
       "      <td>34400.0</td>\n",
       "    </tr>\n",
       "    <tr>\n",
       "      <th>557</th>\n",
       "      <td>201906</td>\n",
       "      <td>한식</td>\n",
       "      <td>1</td>\n",
       "      <td>1</td>\n",
       "      <td>8</td>\n",
       "      <td>264000.0</td>\n",
       "    </tr>\n",
       "    <tr>\n",
       "      <th>640</th>\n",
       "      <td>201906</td>\n",
       "      <td>패스트푸드점</td>\n",
       "      <td>2</td>\n",
       "      <td>1</td>\n",
       "      <td>1</td>\n",
       "      <td>2200.0</td>\n",
       "    </tr>\n",
       "    <tr>\n",
       "      <th>668</th>\n",
       "      <td>201907</td>\n",
       "      <td>한식</td>\n",
       "      <td>1</td>\n",
       "      <td>1</td>\n",
       "      <td>8</td>\n",
       "      <td>289000.0</td>\n",
       "    </tr>\n",
       "    <tr>\n",
       "      <th>723</th>\n",
       "      <td>201907</td>\n",
       "      <td>양식</td>\n",
       "      <td>1</td>\n",
       "      <td>1</td>\n",
       "      <td>1</td>\n",
       "      <td>40500.0</td>\n",
       "    </tr>\n",
       "    <tr>\n",
       "      <th>781</th>\n",
       "      <td>201908</td>\n",
       "      <td>한식</td>\n",
       "      <td>1</td>\n",
       "      <td>1</td>\n",
       "      <td>10</td>\n",
       "      <td>224500.0</td>\n",
       "    </tr>\n",
       "    <tr>\n",
       "      <th>892</th>\n",
       "      <td>201909</td>\n",
       "      <td>한식</td>\n",
       "      <td>1</td>\n",
       "      <td>1</td>\n",
       "      <td>7</td>\n",
       "      <td>129000.0</td>\n",
       "    </tr>\n",
       "    <tr>\n",
       "      <th>960</th>\n",
       "      <td>201909</td>\n",
       "      <td>양식</td>\n",
       "      <td>2</td>\n",
       "      <td>1</td>\n",
       "      <td>1</td>\n",
       "      <td>6400.0</td>\n",
       "    </tr>\n",
       "    <tr>\n",
       "      <th>980</th>\n",
       "      <td>201909</td>\n",
       "      <td>패스트푸드점</td>\n",
       "      <td>2</td>\n",
       "      <td>1</td>\n",
       "      <td>2</td>\n",
       "      <td>8200.0</td>\n",
       "    </tr>\n",
       "    <tr>\n",
       "      <th>1009</th>\n",
       "      <td>201910</td>\n",
       "      <td>한식</td>\n",
       "      <td>1</td>\n",
       "      <td>1</td>\n",
       "      <td>5</td>\n",
       "      <td>136000.0</td>\n",
       "    </tr>\n",
       "    <tr>\n",
       "      <th>1029</th>\n",
       "      <td>201910</td>\n",
       "      <td>일식</td>\n",
       "      <td>1</td>\n",
       "      <td>1</td>\n",
       "      <td>1</td>\n",
       "      <td>44000.0</td>\n",
       "    </tr>\n",
       "    <tr>\n",
       "      <th>1126</th>\n",
       "      <td>201911</td>\n",
       "      <td>한식</td>\n",
       "      <td>1</td>\n",
       "      <td>1</td>\n",
       "      <td>9</td>\n",
       "      <td>223300.0</td>\n",
       "    </tr>\n",
       "    <tr>\n",
       "      <th>1146</th>\n",
       "      <td>201911</td>\n",
       "      <td>일식</td>\n",
       "      <td>1</td>\n",
       "      <td>1</td>\n",
       "      <td>1</td>\n",
       "      <td>129000.0</td>\n",
       "    </tr>\n",
       "    <tr>\n",
       "      <th>1195</th>\n",
       "      <td>201911</td>\n",
       "      <td>양식</td>\n",
       "      <td>2</td>\n",
       "      <td>1</td>\n",
       "      <td>1</td>\n",
       "      <td>37800.0</td>\n",
       "    </tr>\n",
       "    <tr>\n",
       "      <th>1215</th>\n",
       "      <td>201911</td>\n",
       "      <td>패스트푸드점</td>\n",
       "      <td>2</td>\n",
       "      <td>1</td>\n",
       "      <td>2</td>\n",
       "      <td>20300.0</td>\n",
       "    </tr>\n",
       "  </tbody>\n",
       "</table>\n",
       "</div>"
      ],
      "text/plain": [
       "        crym tco_btc_nm  ma_fem_dc  agegrp_dc  tco_btc_u_ct  tco_btc_u_am\n",
       "0     201901         한식          1          1             7      239200.0\n",
       "19    201901         일식          1          1             1       81000.0\n",
       "38    201901         중식          1          1             1       16000.0\n",
       "84    201901     패스트푸드점          2          1             3       16400.0\n",
       "220   201903         한식          1          1             1       26000.0\n",
       "304   201903     패스트푸드점          2          1             2        6500.0\n",
       "331   201904         한식          1          1             3       50000.0\n",
       "442   201905         한식          1          1             4      148000.0\n",
       "499   201905         양식          1          1             1       34400.0\n",
       "557   201906         한식          1          1             8      264000.0\n",
       "640   201906     패스트푸드점          2          1             1        2200.0\n",
       "668   201907         한식          1          1             8      289000.0\n",
       "723   201907         양식          1          1             1       40500.0\n",
       "781   201908         한식          1          1            10      224500.0\n",
       "892   201909         한식          1          1             7      129000.0\n",
       "960   201909         양식          2          1             1        6400.0\n",
       "980   201909     패스트푸드점          2          1             2        8200.0\n",
       "1009  201910         한식          1          1             5      136000.0\n",
       "1029  201910         일식          1          1             1       44000.0\n",
       "1126  201911         한식          1          1             9      223300.0\n",
       "1146  201911         일식          1          1             1      129000.0\n",
       "1195  201911         양식          2          1             1       37800.0\n",
       "1215  201911     패스트푸드점          2          1             2       20300.0"
      ]
     },
     "execution_count": 9,
     "metadata": {},
     "output_type": "execute_result"
    }
   ],
   "source": [
    "df[df['agegrp_dc'] == 1]"
   ]
  },
  {
   "cell_type": "markdown",
   "id": "24050f78",
   "metadata": {},
   "source": [
    "## 컬럼별 EDA를 통한 분포 확인"
   ]
  },
  {
   "cell_type": "markdown",
   "id": "a8fbfd52",
   "metadata": {},
   "source": [
    "### 월별"
   ]
  },
  {
   "cell_type": "code",
   "execution_count": 10,
   "id": "86a51f45",
   "metadata": {
    "ExecuteTime": {
     "end_time": "2023-10-14T00:38:33.351375Z",
     "start_time": "2023-10-14T00:38:33.337880Z"
    }
   },
   "outputs": [
    {
     "data": {
      "text/html": [
       "<div>\n",
       "<style scoped>\n",
       "    .dataframe tbody tr th:only-of-type {\n",
       "        vertical-align: middle;\n",
       "    }\n",
       "\n",
       "    .dataframe tbody tr th {\n",
       "        vertical-align: top;\n",
       "    }\n",
       "\n",
       "    .dataframe thead th {\n",
       "        text-align: right;\n",
       "    }\n",
       "</style>\n",
       "<table border=\"1\" class=\"dataframe\">\n",
       "  <thead>\n",
       "    <tr style=\"text-align: right;\">\n",
       "      <th></th>\n",
       "      <th>tco_btc_u_ct</th>\n",
       "      <th>tco_btc_u_am</th>\n",
       "    </tr>\n",
       "    <tr>\n",
       "      <th>crym</th>\n",
       "      <th></th>\n",
       "      <th></th>\n",
       "    </tr>\n",
       "  </thead>\n",
       "  <tbody>\n",
       "    <tr>\n",
       "      <th>201901</th>\n",
       "      <td>7635701</td>\n",
       "      <td>2.335036e+11</td>\n",
       "    </tr>\n",
       "    <tr>\n",
       "      <th>201902</th>\n",
       "      <td>6718594</td>\n",
       "      <td>2.082875e+11</td>\n",
       "    </tr>\n",
       "    <tr>\n",
       "      <th>201903</th>\n",
       "      <td>8159189</td>\n",
       "      <td>2.466039e+11</td>\n",
       "    </tr>\n",
       "    <tr>\n",
       "      <th>201904</th>\n",
       "      <td>8247496</td>\n",
       "      <td>2.435679e+11</td>\n",
       "    </tr>\n",
       "    <tr>\n",
       "      <th>201905</th>\n",
       "      <td>9019183</td>\n",
       "      <td>2.740720e+11</td>\n",
       "    </tr>\n",
       "  </tbody>\n",
       "</table>\n",
       "</div>"
      ],
      "text/plain": [
       "        tco_btc_u_ct  tco_btc_u_am\n",
       "crym                              \n",
       "201901       7635701  2.335036e+11\n",
       "201902       6718594  2.082875e+11\n",
       "201903       8159189  2.466039e+11\n",
       "201904       8247496  2.435679e+11\n",
       "201905       9019183  2.740720e+11"
      ]
     },
     "execution_count": 10,
     "metadata": {},
     "output_type": "execute_result"
    }
   ],
   "source": [
    "agg_monthly_df = df.groupby(['crym']).agg({'tco_btc_u_ct': 'sum', 'tco_btc_u_am': 'sum'})\n",
    "agg_monthly_df.head()"
   ]
  },
  {
   "cell_type": "code",
   "execution_count": 11,
   "id": "df9c3e6c",
   "metadata": {
    "ExecuteTime": {
     "end_time": "2023-10-14T00:38:33.869406Z",
     "start_time": "2023-10-14T00:38:33.352375Z"
    }
   },
   "outputs": [
    {
     "data": {
      "image/png": "[encoded data removed]",
      "text/plain": [
       "<Figure size 1200x800 with 2 Axes>"
      ]
     },
     "metadata": {},
     "output_type": "display_data"
    }
   ],
   "source": [
    "fig, axes = plt.subplots(nrows=2, ncols=1, figsize=(12, 8))\n",
    "agg_monthly_df['tco_btc_u_ct'].plot(kind='bar', ax=axes[0], title='월별 결제 횟수', xlabel='월(yyyymm)', ylabel='횟수(천만 회)')\n",
    "agg_monthly_df['tco_btc_u_am'].plot(kind='bar', ax=axes[1], title='월별 결제 금액', xlabel='월(yyyymm)', ylabel='금액(천억 원)')\n",
    "plt.subplots_adjust(hspace=0.6)\n",
    "plt.show()"
   ]
  },
  {
   "cell_type": "markdown",
   "id": "09a17a09",
   "metadata": {},
   "source": [
    "2~3월이 유의미하게 적은 분포를 보인다."
   ]
  },
  {
   "cell_type": "markdown",
   "id": "b9e04fd6",
   "metadata": {},
   "source": [
    "### 연도별"
   ]
  },
  {
   "cell_type": "code",
   "execution_count": 12,
   "id": "5ab2efd3",
   "metadata": {
    "ExecuteTime": {
     "end_time": "2023-10-14T00:38:33.885302Z",
     "start_time": "2023-10-14T00:38:33.871423Z"
    }
   },
   "outputs": [
    {
     "data": {
      "text/html": [
       "<div>\n",
       "<style scoped>\n",
       "    .dataframe tbody tr th:only-of-type {\n",
       "        vertical-align: middle;\n",
       "    }\n",
       "\n",
       "    .dataframe tbody tr th {\n",
       "        vertical-align: top;\n",
       "    }\n",
       "\n",
       "    .dataframe thead th {\n",
       "        text-align: right;\n",
       "    }\n",
       "</style>\n",
       "<table border=\"1\" class=\"dataframe\">\n",
       "  <thead>\n",
       "    <tr style=\"text-align: right;\">\n",
       "      <th></th>\n",
       "      <th>crym</th>\n",
       "      <th>tco_btc_nm</th>\n",
       "      <th>ma_fem_dc</th>\n",
       "      <th>agegrp_dc</th>\n",
       "      <th>tco_btc_u_ct</th>\n",
       "      <th>tco_btc_u_am</th>\n",
       "      <th>year</th>\n",
       "    </tr>\n",
       "  </thead>\n",
       "  <tbody>\n",
       "    <tr>\n",
       "      <th>0</th>\n",
       "      <td>201901</td>\n",
       "      <td>한식</td>\n",
       "      <td>1</td>\n",
       "      <td>1</td>\n",
       "      <td>7</td>\n",
       "      <td>2.392000e+05</td>\n",
       "      <td>2019</td>\n",
       "    </tr>\n",
       "    <tr>\n",
       "      <th>1</th>\n",
       "      <td>201901</td>\n",
       "      <td>한식</td>\n",
       "      <td>1</td>\n",
       "      <td>10</td>\n",
       "      <td>1618</td>\n",
       "      <td>4.671496e+07</td>\n",
       "      <td>2019</td>\n",
       "    </tr>\n",
       "    <tr>\n",
       "      <th>2</th>\n",
       "      <td>201901</td>\n",
       "      <td>한식</td>\n",
       "      <td>1</td>\n",
       "      <td>20</td>\n",
       "      <td>150194</td>\n",
       "      <td>4.961334e+09</td>\n",
       "      <td>2019</td>\n",
       "    </tr>\n",
       "    <tr>\n",
       "      <th>3</th>\n",
       "      <td>201901</td>\n",
       "      <td>한식</td>\n",
       "      <td>1</td>\n",
       "      <td>30</td>\n",
       "      <td>564787</td>\n",
       "      <td>2.006319e+10</td>\n",
       "      <td>2019</td>\n",
       "    </tr>\n",
       "    <tr>\n",
       "      <th>4</th>\n",
       "      <td>201901</td>\n",
       "      <td>한식</td>\n",
       "      <td>1</td>\n",
       "      <td>40</td>\n",
       "      <td>817438</td>\n",
       "      <td>2.954471e+10</td>\n",
       "      <td>2019</td>\n",
       "    </tr>\n",
       "  </tbody>\n",
       "</table>\n",
       "</div>"
      ],
      "text/plain": [
       "     crym tco_btc_nm  ma_fem_dc  agegrp_dc  tco_btc_u_ct  tco_btc_u_am  year\n",
       "0  201901         한식          1          1             7  2.392000e+05  2019\n",
       "1  201901         한식          1         10          1618  4.671496e+07  2019\n",
       "2  201901         한식          1         20        150194  4.961334e+09  2019\n",
       "3  201901         한식          1         30        564787  2.006319e+10  2019\n",
       "4  201901         한식          1         40        817438  2.954471e+10  2019"
      ]
     },
     "execution_count": 12,
     "metadata": {},
     "output_type": "execute_result"
    }
   ],
   "source": [
    "df['year'] = df['crym'].apply(str).str[:4]\n",
    "df.head()"
   ]
  },
  {
   "cell_type": "code",
   "execution_count": 13,
   "id": "9c43f8de",
   "metadata": {
    "ExecuteTime": {
     "end_time": "2023-10-14T00:38:33.900715Z",
     "start_time": "2023-10-14T00:38:33.886295Z"
    }
   },
   "outputs": [
    {
     "data": {
      "text/plain": [
       "array(['2019', '2020', '2021'], dtype=object)"
      ]
     },
     "execution_count": 13,
     "metadata": {},
     "output_type": "execute_result"
    }
   ],
   "source": [
    "df['year'].unique()"
   ]
  },
  {
   "cell_type": "code",
   "execution_count": 14,
   "id": "e303c448",
   "metadata": {
    "ExecuteTime": {
     "end_time": "2023-10-14T00:38:34.041491Z",
     "start_time": "2023-10-14T00:38:33.902713Z"
    }
   },
   "outputs": [
    {
     "data": {
      "image/png": "[encoded data removed]",
      "text/plain": [
       "<Figure size 1000x400 with 2 Axes>"
      ]
     },
     "metadata": {},
     "output_type": "display_data"
    }
   ],
   "source": [
    "agg_yearly_df = df.groupby(['year']).agg({'tco_btc_u_ct': 'sum', 'tco_btc_u_am': 'sum'})\n",
    "\n",
    "fig, axes = plt.subplots(nrows=1, ncols=2, figsize=(10, 4))\n",
    "agg_yearly_df['tco_btc_u_ct'].plot(kind='bar', ax=axes[0], title='연도별 결제 횟수', xlabel='연도', ylabel='횟수(억 회)')\n",
    "agg_yearly_df['tco_btc_u_am'].plot(kind='bar', ax=axes[1], title='연도별 결제 금액', xlabel='연도', ylabel='금액(조 원)')\n",
    "plt.show()"
   ]
  },
  {
   "cell_type": "markdown",
   "id": "306f6b34",
   "metadata": {},
   "source": [
    "2019년이 다른 해에 비해 확실히 많아보인다. 2021년은 9월까지의 데이터이기 때문에 눈에 띄게 적은 게 당연하다."
   ]
  },
  {
   "cell_type": "markdown",
   "id": "9d54d505",
   "metadata": {},
   "source": [
    "### 업종별"
   ]
  },
  {
   "cell_type": "code",
   "execution_count": 15,
   "id": "09dd9fbb",
   "metadata": {
    "ExecuteTime": {
     "end_time": "2023-10-14T00:38:34.057439Z",
     "start_time": "2023-10-14T00:38:34.042481Z"
    }
   },
   "outputs": [
    {
     "data": {
      "text/html": [
       "<div>\n",
       "<style scoped>\n",
       "    .dataframe tbody tr th:only-of-type {\n",
       "        vertical-align: middle;\n",
       "    }\n",
       "\n",
       "    .dataframe tbody tr th {\n",
       "        vertical-align: top;\n",
       "    }\n",
       "\n",
       "    .dataframe thead th {\n",
       "        text-align: right;\n",
       "    }\n",
       "</style>\n",
       "<table border=\"1\" class=\"dataframe\">\n",
       "  <thead>\n",
       "    <tr style=\"text-align: right;\">\n",
       "      <th></th>\n",
       "      <th>tco_btc_u_ct</th>\n",
       "      <th>tco_btc_u_am</th>\n",
       "    </tr>\n",
       "    <tr>\n",
       "      <th>tco_btc_nm</th>\n",
       "      <th></th>\n",
       "      <th></th>\n",
       "    </tr>\n",
       "  </thead>\n",
       "  <tbody>\n",
       "    <tr>\n",
       "      <th>양식</th>\n",
       "      <td>11012773</td>\n",
       "      <td>3.592554e+11</td>\n",
       "    </tr>\n",
       "    <tr>\n",
       "      <th>일식</th>\n",
       "      <td>12947145</td>\n",
       "      <td>5.711789e+11</td>\n",
       "    </tr>\n",
       "    <tr>\n",
       "      <th>중식</th>\n",
       "      <td>23211802</td>\n",
       "      <td>5.654612e+11</td>\n",
       "    </tr>\n",
       "    <tr>\n",
       "      <th>패밀리레스토랑</th>\n",
       "      <td>3641159</td>\n",
       "      <td>1.069866e+11</td>\n",
       "    </tr>\n",
       "    <tr>\n",
       "      <th>패스트푸드점</th>\n",
       "      <td>36906620</td>\n",
       "      <td>3.316175e+11</td>\n",
       "    </tr>\n",
       "    <tr>\n",
       "      <th>한식</th>\n",
       "      <td>171930458</td>\n",
       "      <td>5.774641e+12</td>\n",
       "    </tr>\n",
       "  </tbody>\n",
       "</table>\n",
       "</div>"
      ],
      "text/plain": [
       "            tco_btc_u_ct  tco_btc_u_am\n",
       "tco_btc_nm                            \n",
       "양식              11012773  3.592554e+11\n",
       "일식              12947145  5.711789e+11\n",
       "중식              23211802  5.654612e+11\n",
       "패밀리레스토랑          3641159  1.069866e+11\n",
       "패스트푸드점          36906620  3.316175e+11\n",
       "한식             171930458  5.774641e+12"
      ]
     },
     "execution_count": 15,
     "metadata": {},
     "output_type": "execute_result"
    }
   ],
   "source": [
    "agg_categorical_df = df.groupby(['tco_btc_nm']).agg({'tco_btc_u_ct': 'sum', 'tco_btc_u_am': 'sum'})\n",
    "agg_categorical_df"
   ]
  },
  {
   "cell_type": "code",
   "execution_count": 16,
   "id": "48205b2e",
   "metadata": {
    "ExecuteTime": {
     "end_time": "2023-10-14T00:38:34.213859Z",
     "start_time": "2023-10-14T00:38:34.058439Z"
    }
   },
   "outputs": [
    {
     "data": {
      "image/png": "[encoded data removed]",
      "text/plain": [
       "<Figure size 1000x400 with 2 Axes>"
      ]
     },
     "metadata": {},
     "output_type": "display_data"
    }
   ],
   "source": [
    "fig, axes = plt.subplots(nrows=1, ncols=2, figsize=(10, 4))\n",
    "\n",
    "agg_categorical_df = agg_categorical_df.sort_values(['tco_btc_u_ct'], ascending=False)\n",
    "agg_categorical_df['tco_btc_u_ct'].plot(kind='bar', ax=axes[0], title='업종별 주문 횟수', xlabel='업종', ylabel='주문 횟수(억 회)')\n",
    "\n",
    "agg_categorical_df = agg_categorical_df.sort_values(['tco_btc_u_am'], ascending=False)\n",
    "agg_categorical_df['tco_btc_u_am'].plot(kind='bar', ax=axes[1], title='업종별 주문 금액', xlabel='업종', ylabel='주문 금액(조 원)')\n",
    "plt.show()"
   ]
  },
  {
   "cell_type": "markdown",
   "id": "268d8aa4",
   "metadata": {},
   "source": [
    "한식이 횟수와 금액 모두 압도적으로 많으며, 패밀리레스토랑이 압도적으로 적다. 패스트푸드점, 중식, 일식, 양식의 경우 뒤섞인 모습인데, 업종에 따라 **1회 주문 시 발생하는 금액에 차이가 있음**을 파악 가능하다."
   ]
  },
  {
   "cell_type": "markdown",
   "id": "f0a1912d",
   "metadata": {},
   "source": [
    "### 연령대별"
   ]
  },
  {
   "cell_type": "code",
   "execution_count": 17,
   "id": "1213d9c5",
   "metadata": {
    "ExecuteTime": {
     "end_time": "2023-10-14T00:38:34.229574Z",
     "start_time": "2023-10-14T00:38:34.214919Z"
    }
   },
   "outputs": [
    {
     "data": {
      "text/html": [
       "<div>\n",
       "<style scoped>\n",
       "    .dataframe tbody tr th:only-of-type {\n",
       "        vertical-align: middle;\n",
       "    }\n",
       "\n",
       "    .dataframe tbody tr th {\n",
       "        vertical-align: top;\n",
       "    }\n",
       "\n",
       "    .dataframe thead th {\n",
       "        text-align: right;\n",
       "    }\n",
       "</style>\n",
       "<table border=\"1\" class=\"dataframe\">\n",
       "  <thead>\n",
       "    <tr style=\"text-align: right;\">\n",
       "      <th></th>\n",
       "      <th>tco_btc_u_ct</th>\n",
       "      <th>tco_btc_u_am</th>\n",
       "    </tr>\n",
       "    <tr>\n",
       "      <th>agegrp_dc</th>\n",
       "      <th></th>\n",
       "      <th></th>\n",
       "    </tr>\n",
       "  </thead>\n",
       "  <tbody>\n",
       "    <tr>\n",
       "      <th>0</th>\n",
       "      <td>749</td>\n",
       "      <td>1.515989e+07</td>\n",
       "    </tr>\n",
       "    <tr>\n",
       "      <th>1</th>\n",
       "      <td>80</td>\n",
       "      <td>2.171700e+06</td>\n",
       "    </tr>\n",
       "    <tr>\n",
       "      <th>10</th>\n",
       "      <td>127796</td>\n",
       "      <td>3.229329e+09</td>\n",
       "    </tr>\n",
       "    <tr>\n",
       "      <th>20</th>\n",
       "      <td>18584537</td>\n",
       "      <td>5.247816e+11</td>\n",
       "    </tr>\n",
       "    <tr>\n",
       "      <th>30</th>\n",
       "      <td>55158025</td>\n",
       "      <td>1.605713e+12</td>\n",
       "    </tr>\n",
       "    <tr>\n",
       "      <th>40</th>\n",
       "      <td>90680204</td>\n",
       "      <td>2.633513e+12</td>\n",
       "    </tr>\n",
       "    <tr>\n",
       "      <th>50</th>\n",
       "      <td>65704260</td>\n",
       "      <td>1.990089e+12</td>\n",
       "    </tr>\n",
       "    <tr>\n",
       "      <th>60</th>\n",
       "      <td>23159306</td>\n",
       "      <td>7.519947e+11</td>\n",
       "    </tr>\n",
       "    <tr>\n",
       "      <th>70</th>\n",
       "      <td>5350121</td>\n",
       "      <td>1.714754e+11</td>\n",
       "    </tr>\n",
       "    <tr>\n",
       "      <th>80</th>\n",
       "      <td>853027</td>\n",
       "      <td>2.718885e+10</td>\n",
       "    </tr>\n",
       "    <tr>\n",
       "      <th>90</th>\n",
       "      <td>31852</td>\n",
       "      <td>1.138564e+09</td>\n",
       "    </tr>\n",
       "  </tbody>\n",
       "</table>\n",
       "</div>"
      ],
      "text/plain": [
       "           tco_btc_u_ct  tco_btc_u_am\n",
       "agegrp_dc                            \n",
       "0                   749  1.515989e+07\n",
       "1                    80  2.171700e+06\n",
       "10               127796  3.229329e+09\n",
       "20             18584537  5.247816e+11\n",
       "30             55158025  1.605713e+12\n",
       "40             90680204  2.633513e+12\n",
       "50             65704260  1.990089e+12\n",
       "60             23159306  7.519947e+11\n",
       "70              5350121  1.714754e+11\n",
       "80               853027  2.718885e+10\n",
       "90                31852  1.138564e+09"
      ]
     },
     "execution_count": 17,
     "metadata": {},
     "output_type": "execute_result"
    }
   ],
   "source": [
    "agg_aging_df = df.groupby(['agegrp_dc']).agg({'tco_btc_u_ct': 'sum', 'tco_btc_u_am': 'sum'})\n",
    "agg_aging_df"
   ]
  },
  {
   "cell_type": "code",
   "execution_count": 18,
   "id": "66f35894",
   "metadata": {
    "ExecuteTime": {
     "end_time": "2023-10-14T00:38:34.384640Z",
     "start_time": "2023-10-14T00:38:34.230574Z"
    }
   },
   "outputs": [
    {
     "data": {
      "image/png": "[encoded data removed]",
      "text/plain": [
       "<Figure size 1000x800 with 2 Axes>"
      ]
     },
     "metadata": {},
     "output_type": "display_data"
    }
   ],
   "source": [
    "fig, axes = plt.subplots(nrows=2, ncols=1, figsize=(10, 8))\n",
    "\n",
    "agg_aging_df['tco_btc_u_ct'].plot(kind='bar', ax=axes[0], title='연령대별 주문 횟수', xlabel='연령대', ylabel='주문 횟수(천만 회)')\n",
    "agg_aging_df['tco_btc_u_am'].plot(kind='bar', ax=axes[1], title='연령대별 주문 금액', xlabel='연령대', ylabel='주문 금액(조 원)')\n",
    "plt.subplots_adjust(hspace=0.5)\n",
    "plt.show()"
   ]
  },
  {
   "cell_type": "markdown",
   "id": "daf91d5b",
   "metadata": {},
   "source": [
    "결제 횟수와 비용은 40대가 가장 많고, 이를 기준으로 연령대가 낮아지거나 높아질수록 감소하는 추이를 보인다."
   ]
  },
  {
   "cell_type": "markdown",
   "id": "0cc349c9",
   "metadata": {},
   "source": [
    "## 단가가 비싼 음식 업종"
   ]
  },
  {
   "cell_type": "code",
   "execution_count": 19,
   "id": "d66d2c02",
   "metadata": {
    "ExecuteTime": {
     "end_time": "2023-10-14T00:38:34.400647Z",
     "start_time": "2023-10-14T00:38:34.385647Z"
    }
   },
   "outputs": [
    {
     "data": {
      "text/html": [
       "<div>\n",
       "<style scoped>\n",
       "    .dataframe tbody tr th:only-of-type {\n",
       "        vertical-align: middle;\n",
       "    }\n",
       "\n",
       "    .dataframe tbody tr th {\n",
       "        vertical-align: top;\n",
       "    }\n",
       "\n",
       "    .dataframe thead th {\n",
       "        text-align: right;\n",
       "    }\n",
       "</style>\n",
       "<table border=\"1\" class=\"dataframe\">\n",
       "  <thead>\n",
       "    <tr style=\"text-align: right;\">\n",
       "      <th></th>\n",
       "      <th>tco_btc_u_ct</th>\n",
       "      <th>tco_btc_u_am</th>\n",
       "      <th>price_rate</th>\n",
       "    </tr>\n",
       "    <tr>\n",
       "      <th>tco_btc_nm</th>\n",
       "      <th></th>\n",
       "      <th></th>\n",
       "      <th></th>\n",
       "    </tr>\n",
       "  </thead>\n",
       "  <tbody>\n",
       "    <tr>\n",
       "      <th>일식</th>\n",
       "      <td>12947145</td>\n",
       "      <td>5.711789e+11</td>\n",
       "      <td>44116.207400</td>\n",
       "    </tr>\n",
       "    <tr>\n",
       "      <th>한식</th>\n",
       "      <td>171930458</td>\n",
       "      <td>5.774641e+12</td>\n",
       "      <td>33587.071899</td>\n",
       "    </tr>\n",
       "    <tr>\n",
       "      <th>양식</th>\n",
       "      <td>11012773</td>\n",
       "      <td>3.592554e+11</td>\n",
       "      <td>32621.700058</td>\n",
       "    </tr>\n",
       "    <tr>\n",
       "      <th>패밀리레스토랑</th>\n",
       "      <td>3641159</td>\n",
       "      <td>1.069866e+11</td>\n",
       "      <td>29382.555439</td>\n",
       "    </tr>\n",
       "    <tr>\n",
       "      <th>중식</th>\n",
       "      <td>23211802</td>\n",
       "      <td>5.654612e+11</td>\n",
       "      <td>24360.937115</td>\n",
       "    </tr>\n",
       "    <tr>\n",
       "      <th>패스트푸드점</th>\n",
       "      <td>36906620</td>\n",
       "      <td>3.316175e+11</td>\n",
       "      <td>8985.311104</td>\n",
       "    </tr>\n",
       "  </tbody>\n",
       "</table>\n",
       "</div>"
      ],
      "text/plain": [
       "            tco_btc_u_ct  tco_btc_u_am    price_rate\n",
       "tco_btc_nm                                          \n",
       "일식              12947145  5.711789e+11  44116.207400\n",
       "한식             171930458  5.774641e+12  33587.071899\n",
       "양식              11012773  3.592554e+11  32621.700058\n",
       "패밀리레스토랑          3641159  1.069866e+11  29382.555439\n",
       "중식              23211802  5.654612e+11  24360.937115\n",
       "패스트푸드점          36906620  3.316175e+11   8985.311104"
      ]
     },
     "execution_count": 19,
     "metadata": {},
     "output_type": "execute_result"
    }
   ],
   "source": [
    "categorical_df = agg_categorical_df.copy()\n",
    "categorical_df['price_rate'] = categorical_df['tco_btc_u_am'] / categorical_df['tco_btc_u_ct']\n",
    "categorical_df = categorical_df.sort_values(['price_rate'], ascending=False)\n",
    "categorical_df"
   ]
  },
  {
   "cell_type": "code",
   "execution_count": 20,
   "id": "e0946f97",
   "metadata": {
    "ExecuteTime": {
     "end_time": "2023-10-14T00:38:34.479231Z",
     "start_time": "2023-10-14T00:38:34.403040Z"
    }
   },
   "outputs": [
    {
     "data": {
      "image/png": "[encoded data removed]",
      "text/plain": [
       "<Figure size 640x480 with 1 Axes>"
      ]
     },
     "metadata": {},
     "output_type": "display_data"
    }
   ],
   "source": [
    "categorical_df['price_rate'].plot(kind='bar', title='업종별 단가', xlabel='업종', ylabel='단가(원)')\n",
    "plt.show()"
   ]
  },
  {
   "cell_type": "markdown",
   "id": "a79a9cf7",
   "metadata": {},
   "source": [
    "일식이 압도적으로 비싼 이유는 아마 오마카세 때문이 아닐까... 반면 패스트푸드점은 가장 싸다!"
   ]
  },
  {
   "cell_type": "markdown",
   "id": "03aabe87",
   "metadata": {},
   "source": [
    "## 연령대별 업종 선호도"
   ]
  },
  {
   "cell_type": "code",
   "execution_count": 43,
   "id": "778c7304",
   "metadata": {
    "ExecuteTime": {
     "end_time": "2023-10-14T00:41:25.671192Z",
     "start_time": "2023-10-14T00:41:25.638321Z"
    }
   },
   "outputs": [
    {
     "data": {
      "text/html": [
       "<div>\n",
       "<style scoped>\n",
       "    .dataframe tbody tr th:only-of-type {\n",
       "        vertical-align: middle;\n",
       "    }\n",
       "\n",
       "    .dataframe tbody tr th {\n",
       "        vertical-align: top;\n",
       "    }\n",
       "\n",
       "    .dataframe thead th {\n",
       "        text-align: right;\n",
       "    }\n",
       "</style>\n",
       "<table border=\"1\" class=\"dataframe\">\n",
       "  <thead>\n",
       "    <tr style=\"text-align: right;\">\n",
       "      <th>tco_btc_nm</th>\n",
       "      <th>양식</th>\n",
       "      <th>일식</th>\n",
       "      <th>중식</th>\n",
       "      <th>패밀리레스토랑</th>\n",
       "      <th>패스트푸드점</th>\n",
       "      <th>한식</th>\n",
       "    </tr>\n",
       "    <tr>\n",
       "      <th>agegrp_dc</th>\n",
       "      <th></th>\n",
       "      <th></th>\n",
       "      <th></th>\n",
       "      <th></th>\n",
       "      <th></th>\n",
       "      <th></th>\n",
       "    </tr>\n",
       "  </thead>\n",
       "  <tbody>\n",
       "    <tr>\n",
       "      <th>0</th>\n",
       "      <td>0.102804</td>\n",
       "      <td>0.032043</td>\n",
       "      <td>0.172230</td>\n",
       "      <td>0.012016</td>\n",
       "      <td>0.204272</td>\n",
       "      <td>0.476636</td>\n",
       "    </tr>\n",
       "    <tr>\n",
       "      <th>1</th>\n",
       "      <td>0.050000</td>\n",
       "      <td>0.037500</td>\n",
       "      <td>0.012500</td>\n",
       "      <td>0.000000</td>\n",
       "      <td>0.125000</td>\n",
       "      <td>0.775000</td>\n",
       "    </tr>\n",
       "    <tr>\n",
       "      <th>10</th>\n",
       "      <td>0.059243</td>\n",
       "      <td>0.063265</td>\n",
       "      <td>0.087170</td>\n",
       "      <td>0.013036</td>\n",
       "      <td>0.179129</td>\n",
       "      <td>0.598156</td>\n",
       "    </tr>\n",
       "    <tr>\n",
       "      <th>20</th>\n",
       "      <td>0.068903</td>\n",
       "      <td>0.071858</td>\n",
       "      <td>0.084821</td>\n",
       "      <td>0.013705</td>\n",
       "      <td>0.156640</td>\n",
       "      <td>0.604073</td>\n",
       "    </tr>\n",
       "    <tr>\n",
       "      <th>30</th>\n",
       "      <td>0.053171</td>\n",
       "      <td>0.052817</td>\n",
       "      <td>0.092022</td>\n",
       "      <td>0.014900</td>\n",
       "      <td>0.176851</td>\n",
       "      <td>0.610239</td>\n",
       "    </tr>\n",
       "    <tr>\n",
       "      <th>40</th>\n",
       "      <td>0.040065</td>\n",
       "      <td>0.047273</td>\n",
       "      <td>0.095697</td>\n",
       "      <td>0.015357</td>\n",
       "      <td>0.161243</td>\n",
       "      <td>0.640365</td>\n",
       "    </tr>\n",
       "    <tr>\n",
       "      <th>50</th>\n",
       "      <td>0.036457</td>\n",
       "      <td>0.048022</td>\n",
       "      <td>0.085161</td>\n",
       "      <td>0.013570</td>\n",
       "      <td>0.109532</td>\n",
       "      <td>0.707259</td>\n",
       "    </tr>\n",
       "    <tr>\n",
       "      <th>60</th>\n",
       "      <td>0.027119</td>\n",
       "      <td>0.042214</td>\n",
       "      <td>0.077155</td>\n",
       "      <td>0.009627</td>\n",
       "      <td>0.080548</td>\n",
       "      <td>0.763337</td>\n",
       "    </tr>\n",
       "    <tr>\n",
       "      <th>70</th>\n",
       "      <td>0.021329</td>\n",
       "      <td>0.042053</td>\n",
       "      <td>0.077517</td>\n",
       "      <td>0.008788</td>\n",
       "      <td>0.083381</td>\n",
       "      <td>0.766932</td>\n",
       "    </tr>\n",
       "    <tr>\n",
       "      <th>80</th>\n",
       "      <td>0.023632</td>\n",
       "      <td>0.050814</td>\n",
       "      <td>0.082961</td>\n",
       "      <td>0.009841</td>\n",
       "      <td>0.098289</td>\n",
       "      <td>0.734462</td>\n",
       "    </tr>\n",
       "    <tr>\n",
       "      <th>90</th>\n",
       "      <td>0.031772</td>\n",
       "      <td>0.072209</td>\n",
       "      <td>0.089037</td>\n",
       "      <td>0.011428</td>\n",
       "      <td>0.128877</td>\n",
       "      <td>0.666677</td>\n",
       "    </tr>\n",
       "  </tbody>\n",
       "</table>\n",
       "</div>"
      ],
      "text/plain": [
       "tco_btc_nm        양식        일식        중식   패밀리레스토랑    패스트푸드점        한식\n",
       "agegrp_dc                                                             \n",
       "0           0.102804  0.032043  0.172230  0.012016  0.204272  0.476636\n",
       "1           0.050000  0.037500  0.012500  0.000000  0.125000  0.775000\n",
       "10          0.059243  0.063265  0.087170  0.013036  0.179129  0.598156\n",
       "20          0.068903  0.071858  0.084821  0.013705  0.156640  0.604073\n",
       "30          0.053171  0.052817  0.092022  0.014900  0.176851  0.610239\n",
       "40          0.040065  0.047273  0.095697  0.015357  0.161243  0.640365\n",
       "50          0.036457  0.048022  0.085161  0.013570  0.109532  0.707259\n",
       "60          0.027119  0.042214  0.077155  0.009627  0.080548  0.763337\n",
       "70          0.021329  0.042053  0.077517  0.008788  0.083381  0.766932\n",
       "80          0.023632  0.050814  0.082961  0.009841  0.098289  0.734462\n",
       "90          0.031772  0.072209  0.089037  0.011428  0.128877  0.666677"
      ]
     },
     "execution_count": 43,
     "metadata": {},
     "output_type": "execute_result"
    }
   ],
   "source": [
    "categorical_aging_df = df.groupby(['agegrp_dc', 'tco_btc_nm']).agg({'tco_btc_u_ct': 'sum'})\n",
    "categorical_aging_df['rate'] = categorical_aging_df.groupby(level='agegrp_dc', group_keys=False).apply(lambda x: x / x.sum())\n",
    "categorical_aging_df = categorical_aging_df['rate'].unstack(fill_value=0)\n",
    "categorical_aging_df"
   ]
  },
  {
   "cell_type": "code",
   "execution_count": 45,
   "id": "0feca6b6",
   "metadata": {
    "ExecuteTime": {
     "end_time": "2023-10-14T00:41:34.862543Z",
     "start_time": "2023-10-14T00:41:34.638394Z"
    }
   },
   "outputs": [
    {
     "data": {
      "image/png": "[encoded data removed]",
      "text/plain": [
       "<Figure size 1000x500 with 1 Axes>"
      ]
     },
     "metadata": {},
     "output_type": "display_data"
    }
   ],
   "source": [
    "categorical_aging_df.plot(\n",
    "    kind='bar', stacked=True, figsize=(10,5), title='연령대별 업종 선호도', xlabel='연령대', ylabel='선호도(%)'\n",
    ")\n",
    "plt.legend(loc='lower left', bbox_to_anchor=(1.0,0))\n",
    "plt.show()"
   ]
  },
  {
   "cell_type": "markdown",
   "id": "3b544529",
   "metadata": {},
   "source": [
    "역시나 전체적으로 한식이 가장 많이 분포함을 확인해 볼 수 있다. 10대에서는 패스트푸드점의 선호도가 다른 연령대에 비해 높으며, 60~70대의 경우 한식 선호도가 다른 연령대에 비해 월등히 높음을 확인해 볼 수 있다."
   ]
  },
  {
   "cell_type": "code",
   "execution_count": 50,
   "id": "cbc7cc3f",
   "metadata": {
    "ExecuteTime": {
     "end_time": "2023-10-14T00:42:34.791560Z",
     "start_time": "2023-10-14T00:42:34.764638Z"
    }
   },
   "outputs": [
    {
     "data": {
      "text/html": [
       "<div>\n",
       "<style scoped>\n",
       "    .dataframe tbody tr th:only-of-type {\n",
       "        vertical-align: middle;\n",
       "    }\n",
       "\n",
       "    .dataframe tbody tr th {\n",
       "        vertical-align: top;\n",
       "    }\n",
       "\n",
       "    .dataframe thead th {\n",
       "        text-align: right;\n",
       "    }\n",
       "</style>\n",
       "<table border=\"1\" class=\"dataframe\">\n",
       "  <thead>\n",
       "    <tr style=\"text-align: right;\">\n",
       "      <th>agegrp_dc</th>\n",
       "      <th>0</th>\n",
       "      <th>1</th>\n",
       "      <th>10</th>\n",
       "      <th>20</th>\n",
       "      <th>30</th>\n",
       "      <th>40</th>\n",
       "      <th>50</th>\n",
       "      <th>60</th>\n",
       "      <th>70</th>\n",
       "      <th>80</th>\n",
       "      <th>90</th>\n",
       "    </tr>\n",
       "    <tr>\n",
       "      <th>tco_btc_nm</th>\n",
       "      <th></th>\n",
       "      <th></th>\n",
       "      <th></th>\n",
       "      <th></th>\n",
       "      <th></th>\n",
       "      <th></th>\n",
       "      <th></th>\n",
       "      <th></th>\n",
       "      <th></th>\n",
       "      <th></th>\n",
       "      <th></th>\n",
       "    </tr>\n",
       "  </thead>\n",
       "  <tbody>\n",
       "    <tr>\n",
       "      <th>양식</th>\n",
       "      <td>0.102804</td>\n",
       "      <td>0.0500</td>\n",
       "      <td>0.059243</td>\n",
       "      <td>0.068903</td>\n",
       "      <td>0.053171</td>\n",
       "      <td>0.040065</td>\n",
       "      <td>0.036457</td>\n",
       "      <td>0.027119</td>\n",
       "      <td>0.021329</td>\n",
       "      <td>0.023632</td>\n",
       "      <td>0.031772</td>\n",
       "    </tr>\n",
       "    <tr>\n",
       "      <th>일식</th>\n",
       "      <td>0.032043</td>\n",
       "      <td>0.0375</td>\n",
       "      <td>0.063265</td>\n",
       "      <td>0.071858</td>\n",
       "      <td>0.052817</td>\n",
       "      <td>0.047273</td>\n",
       "      <td>0.048022</td>\n",
       "      <td>0.042214</td>\n",
       "      <td>0.042053</td>\n",
       "      <td>0.050814</td>\n",
       "      <td>0.072209</td>\n",
       "    </tr>\n",
       "    <tr>\n",
       "      <th>중식</th>\n",
       "      <td>0.172230</td>\n",
       "      <td>0.0125</td>\n",
       "      <td>0.087170</td>\n",
       "      <td>0.084821</td>\n",
       "      <td>0.092022</td>\n",
       "      <td>0.095697</td>\n",
       "      <td>0.085161</td>\n",
       "      <td>0.077155</td>\n",
       "      <td>0.077517</td>\n",
       "      <td>0.082961</td>\n",
       "      <td>0.089037</td>\n",
       "    </tr>\n",
       "    <tr>\n",
       "      <th>패밀리레스토랑</th>\n",
       "      <td>0.012016</td>\n",
       "      <td>0.0000</td>\n",
       "      <td>0.013036</td>\n",
       "      <td>0.013705</td>\n",
       "      <td>0.014900</td>\n",
       "      <td>0.015357</td>\n",
       "      <td>0.013570</td>\n",
       "      <td>0.009627</td>\n",
       "      <td>0.008788</td>\n",
       "      <td>0.009841</td>\n",
       "      <td>0.011428</td>\n",
       "    </tr>\n",
       "    <tr>\n",
       "      <th>패스트푸드점</th>\n",
       "      <td>0.204272</td>\n",
       "      <td>0.1250</td>\n",
       "      <td>0.179129</td>\n",
       "      <td>0.156640</td>\n",
       "      <td>0.176851</td>\n",
       "      <td>0.161243</td>\n",
       "      <td>0.109532</td>\n",
       "      <td>0.080548</td>\n",
       "      <td>0.083381</td>\n",
       "      <td>0.098289</td>\n",
       "      <td>0.128877</td>\n",
       "    </tr>\n",
       "    <tr>\n",
       "      <th>한식</th>\n",
       "      <td>0.476636</td>\n",
       "      <td>0.7750</td>\n",
       "      <td>0.598156</td>\n",
       "      <td>0.604073</td>\n",
       "      <td>0.610239</td>\n",
       "      <td>0.640365</td>\n",
       "      <td>0.707259</td>\n",
       "      <td>0.763337</td>\n",
       "      <td>0.766932</td>\n",
       "      <td>0.734462</td>\n",
       "      <td>0.666677</td>\n",
       "    </tr>\n",
       "  </tbody>\n",
       "</table>\n",
       "</div>"
      ],
      "text/plain": [
       "agegrp_dc         0       1         10        20        30        40  \\\n",
       "tco_btc_nm                                                             \n",
       "양식          0.102804  0.0500  0.059243  0.068903  0.053171  0.040065   \n",
       "일식          0.032043  0.0375  0.063265  0.071858  0.052817  0.047273   \n",
       "중식          0.172230  0.0125  0.087170  0.084821  0.092022  0.095697   \n",
       "패밀리레스토랑     0.012016  0.0000  0.013036  0.013705  0.014900  0.015357   \n",
       "패스트푸드점      0.204272  0.1250  0.179129  0.156640  0.176851  0.161243   \n",
       "한식          0.476636  0.7750  0.598156  0.604073  0.610239  0.640365   \n",
       "\n",
       "agegrp_dc         50        60        70        80        90  \n",
       "tco_btc_nm                                                    \n",
       "양식          0.036457  0.027119  0.021329  0.023632  0.031772  \n",
       "일식          0.048022  0.042214  0.042053  0.050814  0.072209  \n",
       "중식          0.085161  0.077155  0.077517  0.082961  0.089037  \n",
       "패밀리레스토랑     0.013570  0.009627  0.008788  0.009841  0.011428  \n",
       "패스트푸드점      0.109532  0.080548  0.083381  0.098289  0.128877  \n",
       "한식          0.707259  0.763337  0.766932  0.734462  0.666677  "
      ]
     },
     "execution_count": 50,
     "metadata": {},
     "output_type": "execute_result"
    }
   ],
   "source": [
    "categorical_aging_df.transpose()"
   ]
  },
  {
   "cell_type": "code",
   "execution_count": 52,
   "id": "1dfc80ac",
   "metadata": {
    "ExecuteTime": {
     "end_time": "2023-10-14T00:44:29.432455Z",
     "start_time": "2023-10-14T00:44:29.421411Z"
    }
   },
   "outputs": [],
   "source": [
    "# min-max scale\n",
    "\n",
    "def min_max_scaling(row):\n",
    "    min_val = row.min()\n",
    "    max_val = row.max()\n",
    "    return (row - min_val) / (max_val - min_val)"
   ]
  },
  {
   "cell_type": "code",
   "execution_count": 76,
   "id": "cfe8e93b",
   "metadata": {
    "ExecuteTime": {
     "end_time": "2023-10-14T00:49:49.555377Z",
     "start_time": "2023-10-14T00:49:49.533122Z"
    }
   },
   "outputs": [
    {
     "data": {
      "text/html": [
       "<div>\n",
       "<style scoped>\n",
       "    .dataframe tbody tr th:only-of-type {\n",
       "        vertical-align: middle;\n",
       "    }\n",
       "\n",
       "    .dataframe tbody tr th {\n",
       "        vertical-align: top;\n",
       "    }\n",
       "\n",
       "    .dataframe thead th {\n",
       "        text-align: right;\n",
       "    }\n",
       "</style>\n",
       "<table border=\"1\" class=\"dataframe\">\n",
       "  <thead>\n",
       "    <tr style=\"text-align: right;\">\n",
       "      <th>agegrp_dc</th>\n",
       "      <th>10</th>\n",
       "      <th>20</th>\n",
       "      <th>30</th>\n",
       "      <th>40</th>\n",
       "      <th>50</th>\n",
       "      <th>60</th>\n",
       "      <th>70</th>\n",
       "      <th>80</th>\n",
       "      <th>90</th>\n",
       "    </tr>\n",
       "    <tr>\n",
       "      <th>tco_btc_nm</th>\n",
       "      <th></th>\n",
       "      <th></th>\n",
       "      <th></th>\n",
       "      <th></th>\n",
       "      <th></th>\n",
       "      <th></th>\n",
       "      <th></th>\n",
       "      <th></th>\n",
       "      <th></th>\n",
       "    </tr>\n",
       "  </thead>\n",
       "  <tbody>\n",
       "    <tr>\n",
       "      <th>양식</th>\n",
       "      <td>0.465347</td>\n",
       "      <td>0.583913</td>\n",
       "      <td>0.390819</td>\n",
       "      <td>0.229964</td>\n",
       "      <td>0.185675</td>\n",
       "      <td>0.071074</td>\n",
       "      <td>0.000000</td>\n",
       "      <td>0.028274</td>\n",
       "      <td>0.128177</td>\n",
       "    </tr>\n",
       "    <tr>\n",
       "      <th>일식</th>\n",
       "      <td>0.777324</td>\n",
       "      <td>0.991257</td>\n",
       "      <td>0.517219</td>\n",
       "      <td>0.379191</td>\n",
       "      <td>0.397820</td>\n",
       "      <td>0.253241</td>\n",
       "      <td>0.249223</td>\n",
       "      <td>0.467348</td>\n",
       "      <td>1.000000</td>\n",
       "    </tr>\n",
       "    <tr>\n",
       "      <th>중식</th>\n",
       "      <td>0.467479</td>\n",
       "      <td>0.452773</td>\n",
       "      <td>0.497852</td>\n",
       "      <td>0.520859</td>\n",
       "      <td>0.454902</td>\n",
       "      <td>0.404776</td>\n",
       "      <td>0.407044</td>\n",
       "      <td>0.441127</td>\n",
       "      <td>0.479165</td>\n",
       "    </tr>\n",
       "    <tr>\n",
       "      <th>패밀리레스토랑</th>\n",
       "      <td>0.848881</td>\n",
       "      <td>0.892431</td>\n",
       "      <td>0.970250</td>\n",
       "      <td>1.000000</td>\n",
       "      <td>0.883601</td>\n",
       "      <td>0.626886</td>\n",
       "      <td>0.572255</td>\n",
       "      <td>0.640836</td>\n",
       "      <td>0.744138</td>\n",
       "    </tr>\n",
       "    <tr>\n",
       "      <th>패스트푸드점</th>\n",
       "      <td>0.796782</td>\n",
       "      <td>0.615013</td>\n",
       "      <td>0.778368</td>\n",
       "      <td>0.652215</td>\n",
       "      <td>0.234267</td>\n",
       "      <td>0.000000</td>\n",
       "      <td>0.022898</td>\n",
       "      <td>0.143392</td>\n",
       "      <td>0.390623</td>\n",
       "    </tr>\n",
       "    <tr>\n",
       "      <th>한식</th>\n",
       "      <td>0.407290</td>\n",
       "      <td>0.427119</td>\n",
       "      <td>0.447786</td>\n",
       "      <td>0.548757</td>\n",
       "      <td>0.772957</td>\n",
       "      <td>0.960909</td>\n",
       "      <td>0.972961</td>\n",
       "      <td>0.864133</td>\n",
       "      <td>0.636944</td>\n",
       "    </tr>\n",
       "  </tbody>\n",
       "</table>\n",
       "</div>"
      ],
      "text/plain": [
       "agegrp_dc         10        20        30        40        50        60  \\\n",
       "tco_btc_nm                                                               \n",
       "양식          0.465347  0.583913  0.390819  0.229964  0.185675  0.071074   \n",
       "일식          0.777324  0.991257  0.517219  0.379191  0.397820  0.253241   \n",
       "중식          0.467479  0.452773  0.497852  0.520859  0.454902  0.404776   \n",
       "패밀리레스토랑     0.848881  0.892431  0.970250  1.000000  0.883601  0.626886   \n",
       "패스트푸드점      0.796782  0.615013  0.778368  0.652215  0.234267  0.000000   \n",
       "한식          0.407290  0.427119  0.447786  0.548757  0.772957  0.960909   \n",
       "\n",
       "agegrp_dc         70        80        90  \n",
       "tco_btc_nm                                \n",
       "양식          0.000000  0.028274  0.128177  \n",
       "일식          0.249223  0.467348  1.000000  \n",
       "중식          0.407044  0.441127  0.479165  \n",
       "패밀리레스토랑     0.572255  0.640836  0.744138  \n",
       "패스트푸드점      0.022898  0.143392  0.390623  \n",
       "한식          0.972961  0.864133  0.636944  "
      ]
     },
     "execution_count": 76,
     "metadata": {},
     "output_type": "execute_result"
    }
   ],
   "source": [
    "categorical_aging_df_scaled = categorical_aging_df.transpose().apply(min_max_scaling, axis=1)\n",
    "categorical_aging_df_scaled = categorical_aging_df_scaled.drop([0, 1], axis=1)\n",
    "categorical_aging_df_scaled"
   ]
  },
  {
   "cell_type": "code",
   "execution_count": 77,
   "id": "b09f9579",
   "metadata": {
    "ExecuteTime": {
     "end_time": "2023-10-14T00:49:51.813802Z",
     "start_time": "2023-10-14T00:49:51.373745Z"
    }
   },
   "outputs": [
    {
     "data": {
      "image/png": "[encoded data removed]",
      "text/plain": [
       "<Figure size 1000x1000 with 2 Axes>"
      ]
     },
     "metadata": {},
     "output_type": "display_data"
    }
   ],
   "source": [
    "fig, axes = plt.subplots(nrows=2, ncols=1, figsize=(10, 10))\n",
    "\n",
    "categorical_aging_df_scaled.loc[['양식', '일식', '중식']].plot(\n",
    "    kind='bar', ax=axes[0], title='연령대별 업종 선호도', xlabel='연령대', ylabel='선호도(%)'\n",
    ")\n",
    "axes[0].legend(loc='lower left', bbox_to_anchor=(1.0,0))\n",
    "\n",
    "categorical_aging_df_scaled.loc[['패밀리레스토랑', '패스트푸드점', '한식']].plot(\n",
    "    kind='bar', ax=axes[1], title='연령대별 업종 선호도', xlabel='연령대', ylabel='선호도(%)'\n",
    ")\n",
    "axes[1].legend(loc='lower left', bbox_to_anchor=(1.0,0))\n",
    "\n",
    "plt.subplots_adjust(hspace=0.5)\n",
    "plt.show()"
   ]
  },
  {
   "cell_type": "markdown",
   "id": "51cfb093",
   "metadata": {},
   "source": [
    "## 코로나19와 외식 소비의 관계에 대한 통계적 검정\n",
    "\n",
    "2019년의 데이터와 2020년의 데이터 사이에 유의미한 차이가 있는지 확인해 보자."
   ]
  },
  {
   "cell_type": "code",
   "execution_count": 23,
   "id": "2a0c9883",
   "metadata": {
    "ExecuteTime": {
     "end_time": "2023-10-14T00:38:34.668297Z",
     "start_time": "2023-10-14T00:38:34.653823Z"
    }
   },
   "outputs": [
    {
     "data": {
      "text/plain": [
       "dtype('int64')"
      ]
     },
     "execution_count": 23,
     "metadata": {},
     "output_type": "execute_result"
    }
   ],
   "source": [
    "df['crym'].dtype"
   ]
  },
  {
   "cell_type": "code",
   "execution_count": 24,
   "id": "a3805a9d",
   "metadata": {
    "ExecuteTime": {
     "end_time": "2023-10-14T00:38:34.684203Z",
     "start_time": "2023-10-14T00:38:34.669560Z"
    }
   },
   "outputs": [
    {
     "data": {
      "text/html": [
       "<div>\n",
       "<style scoped>\n",
       "    .dataframe tbody tr th:only-of-type {\n",
       "        vertical-align: middle;\n",
       "    }\n",
       "\n",
       "    .dataframe tbody tr th {\n",
       "        vertical-align: top;\n",
       "    }\n",
       "\n",
       "    .dataframe thead th {\n",
       "        text-align: right;\n",
       "    }\n",
       "</style>\n",
       "<table border=\"1\" class=\"dataframe\">\n",
       "  <thead>\n",
       "    <tr style=\"text-align: right;\">\n",
       "      <th></th>\n",
       "      <th>tco_btc_u_ct</th>\n",
       "      <th>tco_btc_u_am</th>\n",
       "    </tr>\n",
       "    <tr>\n",
       "      <th>crym</th>\n",
       "      <th></th>\n",
       "      <th></th>\n",
       "    </tr>\n",
       "  </thead>\n",
       "  <tbody>\n",
       "    <tr>\n",
       "      <th>201901</th>\n",
       "      <td>7635701</td>\n",
       "      <td>2.335036e+11</td>\n",
       "    </tr>\n",
       "    <tr>\n",
       "      <th>201902</th>\n",
       "      <td>6718594</td>\n",
       "      <td>2.082875e+11</td>\n",
       "    </tr>\n",
       "    <tr>\n",
       "      <th>201903</th>\n",
       "      <td>8159189</td>\n",
       "      <td>2.466039e+11</td>\n",
       "    </tr>\n",
       "    <tr>\n",
       "      <th>201904</th>\n",
       "      <td>8247496</td>\n",
       "      <td>2.435679e+11</td>\n",
       "    </tr>\n",
       "    <tr>\n",
       "      <th>201905</th>\n",
       "      <td>9019183</td>\n",
       "      <td>2.740720e+11</td>\n",
       "    </tr>\n",
       "    <tr>\n",
       "      <th>201906</th>\n",
       "      <td>8902624</td>\n",
       "      <td>2.626318e+11</td>\n",
       "    </tr>\n",
       "    <tr>\n",
       "      <th>201907</th>\n",
       "      <td>9342597</td>\n",
       "      <td>2.759589e+11</td>\n",
       "    </tr>\n",
       "    <tr>\n",
       "      <th>201908</th>\n",
       "      <td>9748610</td>\n",
       "      <td>2.908411e+11</td>\n",
       "    </tr>\n",
       "    <tr>\n",
       "      <th>201909</th>\n",
       "      <td>8486843</td>\n",
       "      <td>2.477988e+11</td>\n",
       "    </tr>\n",
       "    <tr>\n",
       "      <th>201910</th>\n",
       "      <td>9655489</td>\n",
       "      <td>2.808602e+11</td>\n",
       "    </tr>\n",
       "    <tr>\n",
       "      <th>201911</th>\n",
       "      <td>9078473</td>\n",
       "      <td>2.689078e+11</td>\n",
       "    </tr>\n",
       "    <tr>\n",
       "      <th>201912</th>\n",
       "      <td>9445633</td>\n",
       "      <td>3.056871e+11</td>\n",
       "    </tr>\n",
       "    <tr>\n",
       "      <th>202001</th>\n",
       "      <td>8700533</td>\n",
       "      <td>2.679888e+11</td>\n",
       "    </tr>\n",
       "    <tr>\n",
       "      <th>202002</th>\n",
       "      <td>7246838</td>\n",
       "      <td>2.130873e+11</td>\n",
       "    </tr>\n",
       "    <tr>\n",
       "      <th>202003</th>\n",
       "      <td>6815530</td>\n",
       "      <td>1.909038e+11</td>\n",
       "    </tr>\n",
       "    <tr>\n",
       "      <th>202004</th>\n",
       "      <td>7590833</td>\n",
       "      <td>2.201387e+11</td>\n",
       "    </tr>\n",
       "    <tr>\n",
       "      <th>202005</th>\n",
       "      <td>8302351</td>\n",
       "      <td>2.623998e+11</td>\n",
       "    </tr>\n",
       "    <tr>\n",
       "      <th>202006</th>\n",
       "      <td>7958966</td>\n",
       "      <td>2.347256e+11</td>\n",
       "    </tr>\n",
       "    <tr>\n",
       "      <th>202007</th>\n",
       "      <td>8474046</td>\n",
       "      <td>2.555737e+11</td>\n",
       "    </tr>\n",
       "    <tr>\n",
       "      <th>202008</th>\n",
       "      <td>8401224</td>\n",
       "      <td>2.572021e+11</td>\n",
       "    </tr>\n",
       "    <tr>\n",
       "      <th>202009</th>\n",
       "      <td>7084619</td>\n",
       "      <td>1.995620e+11</td>\n",
       "    </tr>\n",
       "    <tr>\n",
       "      <th>202010</th>\n",
       "      <td>7826526</td>\n",
       "      <td>2.357306e+11</td>\n",
       "    </tr>\n",
       "    <tr>\n",
       "      <th>202011</th>\n",
       "      <td>7566795</td>\n",
       "      <td>2.283102e+11</td>\n",
       "    </tr>\n",
       "    <tr>\n",
       "      <th>202012</th>\n",
       "      <td>5942651</td>\n",
       "      <td>1.618190e+11</td>\n",
       "    </tr>\n",
       "  </tbody>\n",
       "</table>\n",
       "</div>"
      ],
      "text/plain": [
       "        tco_btc_u_ct  tco_btc_u_am\n",
       "crym                              \n",
       "201901       7635701  2.335036e+11\n",
       "201902       6718594  2.082875e+11\n",
       "201903       8159189  2.466039e+11\n",
       "201904       8247496  2.435679e+11\n",
       "201905       9019183  2.740720e+11\n",
       "201906       8902624  2.626318e+11\n",
       "201907       9342597  2.759589e+11\n",
       "201908       9748610  2.908411e+11\n",
       "201909       8486843  2.477988e+11\n",
       "201910       9655489  2.808602e+11\n",
       "201911       9078473  2.689078e+11\n",
       "201912       9445633  3.056871e+11\n",
       "202001       8700533  2.679888e+11\n",
       "202002       7246838  2.130873e+11\n",
       "202003       6815530  1.909038e+11\n",
       "202004       7590833  2.201387e+11\n",
       "202005       8302351  2.623998e+11\n",
       "202006       7958966  2.347256e+11\n",
       "202007       8474046  2.555737e+11\n",
       "202008       8401224  2.572021e+11\n",
       "202009       7084619  1.995620e+11\n",
       "202010       7826526  2.357306e+11\n",
       "202011       7566795  2.283102e+11\n",
       "202012       5942651  1.618190e+11"
      ]
     },
     "execution_count": 24,
     "metadata": {},
     "output_type": "execute_result"
    }
   ],
   "source": [
    "# 2019년, 2020년의 데이터\n",
    "count_by_month_df = df.groupby(['crym']).agg({'tco_btc_u_ct': 'sum', 'tco_btc_u_am': 'sum'})\n",
    "count_by_month_1920_df = count_by_month_df[count_by_month_df.index < 202100]\n",
    "count_by_month_1920_df"
   ]
  },
  {
   "cell_type": "code",
   "execution_count": 25,
   "id": "d1095716",
   "metadata": {
    "ExecuteTime": {
     "end_time": "2023-10-14T00:38:34.700161Z",
     "start_time": "2023-10-14T00:38:34.685532Z"
    }
   },
   "outputs": [
    {
     "data": {
      "text/plain": [
       "24"
      ]
     },
     "execution_count": 25,
     "metadata": {},
     "output_type": "execute_result"
    }
   ],
   "source": [
    "len(count_by_month_1920_df)"
   ]
  },
  {
   "cell_type": "code",
   "execution_count": 26,
   "id": "dd1e7c38",
   "metadata": {
    "ExecuteTime": {
     "end_time": "2023-10-14T00:38:34.794047Z",
     "start_time": "2023-10-14T00:38:34.701163Z"
    }
   },
   "outputs": [
    {
     "name": "stderr",
     "output_type": "stream",
     "text": [
      "C:\\Users\\louis\\anaconda3\\envs\\ml\\lib\\site-packages\\IPython\\core\\pylabtools.py:152: UserWarning: Glyph 8722 (\\N{MINUS SIGN}) missing from current font.\n",
      "  fig.canvas.print_figure(bytes_io, **kw)\n"
     ]
    },
    {
     "data": {
      "image/png": "[encoded data removed]",
      "text/plain": [
       "<Figure size 640x480 with 1 Axes>"
      ]
     },
     "metadata": {},
     "output_type": "display_data"
    }
   ],
   "source": [
    "# t분포를 따르는지 보고\n",
    "import scipy.stats as stats\n",
    "\n",
    "stats.probplot(count_by_month_1920_df['tco_btc_u_ct'], dist='t', sparams=(len(count_by_month_1920_df) - 1), plot=plt)\n",
    "plt.title('결제 횟수의 t분포에 대한 Q-Q plot')\n",
    "plt.show()"
   ]
  },
  {
   "cell_type": "code",
   "execution_count": 27,
   "id": "a5f53f01",
   "metadata": {
    "ExecuteTime": {
     "end_time": "2023-10-14T00:38:34.886399Z",
     "start_time": "2023-10-14T00:38:34.795253Z"
    }
   },
   "outputs": [
    {
     "data": {
      "image/png": "[encoded data removed]",
      "text/plain": [
       "<Figure size 640x480 with 1 Axes>"
      ]
     },
     "metadata": {},
     "output_type": "display_data"
    }
   ],
   "source": [
    "stats.probplot(count_by_month_1920_df['tco_btc_u_am'], dist='t', sparams=(len(count_by_month_1920_df) - 1), plot=plt)\n",
    "plt.title('결제 금액의 t분포에 대한 Q-Q plot')\n",
    "plt.show()"
   ]
  },
  {
   "cell_type": "markdown",
   "id": "1a2eeaea",
   "metadata": {},
   "source": [
    "둘 다 t분포 따른다고 볼 수 있겠다."
   ]
  },
  {
   "cell_type": "code",
   "execution_count": 28,
   "id": "89a0372d",
   "metadata": {
    "ExecuteTime": {
     "end_time": "2023-10-14T00:38:34.902182Z",
     "start_time": "2023-10-14T00:38:34.889591Z"
    }
   },
   "outputs": [
    {
     "name": "stdout",
     "output_type": "stream",
     "text": [
      "t-statistic: 3.0111867840291007\n",
      "p-value: 0.003245201790090016\n",
      "귀무 가설을 기각합니다. 2019년의 평균 결제 횟수는 2020년보다 큽니다.\n"
     ]
    }
   ],
   "source": [
    "# 2019년과 2020년의 평균 결제 횟수에 대한 t-test\n",
    "\n",
    "data_2019 = count_by_month_1920_df[count_by_month_1920_df.index < 202000]['tco_btc_u_ct']\n",
    "data_2020 = count_by_month_1920_df[count_by_month_1920_df.index > 202000]['tco_btc_u_ct']\n",
    "\n",
    "# 독립표본 t-검정 수행\n",
    "t_statistic, p_value = stats.ttest_ind(data_2019, data_2020, equal_var=False, alternative='greater') # 등분산 가정 안 함\n",
    "\n",
    "# 결과 출력\n",
    "print(\"t-statistic:\", t_statistic)\n",
    "print(\"p-value:\", p_value)\n",
    "\n",
    "# 유의수준(alpha) 설정\n",
    "alpha = 0.05\n",
    "\n",
    "# p-value와 유의수준 비교\n",
    "if p_value < alpha:\n",
    "    print(\"귀무 가설을 기각합니다. 2019년의 평균 결제 횟수는 2020년보다 큽니다.\")\n",
    "else:\n",
    "    print(\"귀무 가설을 기각하지 않습니다. 2019년의 평균 결제 횟수는 2020년보다 크지 않습니다.\")"
   ]
  },
  {
   "cell_type": "code",
   "execution_count": 29,
   "id": "d3c69487",
   "metadata": {
    "ExecuteTime": {
     "end_time": "2023-10-14T00:38:34.918056Z",
     "start_time": "2023-10-14T00:38:34.904227Z"
    }
   },
   "outputs": [
    {
     "name": "stdout",
     "output_type": "stream",
     "text": [
      "t-statistic: 2.834311845427932\n",
      "p-value: 0.0049168213540382675\n",
      "귀무 가설을 기각합니다. 2019년의 평균 결제 금액은 2020년보다 큽니다.\n"
     ]
    }
   ],
   "source": [
    "# 2019년과 2020년의 평균 결제 금액에 대한 t-test\n",
    "\n",
    "data_2019 = count_by_month_1920_df[count_by_month_1920_df.index < 202000]['tco_btc_u_am']\n",
    "data_2020 = count_by_month_1920_df[count_by_month_1920_df.index > 202000]['tco_btc_u_am']\n",
    "\n",
    "# 독립표본 t-검정 수행\n",
    "t_statistic, p_value = stats.ttest_ind(data_2019, data_2020, equal_var=False, alternative='greater') # 등분산 가정 안 함\n",
    "\n",
    "# 결과 출력\n",
    "print(\"t-statistic:\", t_statistic)\n",
    "print(\"p-value:\", p_value)\n",
    "\n",
    "# 유의수준(alpha) 설정\n",
    "alpha = 0.05\n",
    "\n",
    "# p-value와 유의수준 비교\n",
    "if p_value < alpha:\n",
    "    print(\"귀무 가설을 기각합니다. 2019년의 평균 결제 금액은 2020년보다 큽니다.\")\n",
    "else:\n",
    "    print(\"귀무 가설을 기각하지 않습니다. 2019년의 평균 결제 금액은 2020년보다 크지 않습니다.\")"
   ]
  },
  {
   "cell_type": "markdown",
   "id": "86569b5e",
   "metadata": {},
   "source": [
    "2019년의 평균 결제 횟수, 평균 결제 금액이 2020년에 비해 통계적으로 유의미하게 크다는 결론을 얻었다."
   ]
  }
 ],
 "metadata": {
  "kernelspec": {
   "display_name": "Python 3 (ipykernel)",
   "language": "python",
   "name": "python3"
  },
  "language_info": {
   "codemirror_mode": {
    "name": "ipython",
    "version": 3
   },
   "file_extension": ".py",
   "mimetype": "text/x-python",
   "name": "python",
   "nbconvert_exporter": "python",
   "pygments_lexer": "ipython3",
   "version": "3.9.16"
  }
 },
 "nbformat": 4,
 "nbformat_minor": 5
}
