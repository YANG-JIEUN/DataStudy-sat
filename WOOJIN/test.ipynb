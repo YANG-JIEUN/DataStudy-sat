{
 "cells": [
  {
   "cell_type": "code",
   "execution_count": 1,
   "id": "000a3633",
   "metadata": {
    "ExecuteTime": {
     "end_time": "2023-10-10T11:10:59.079517Z",
     "start_time": "2023-10-10T11:10:59.041416Z"
    }
   },
   "outputs": [
    {
     "name": "stdout",
     "output_type": "stream",
     "text": [
      "test\n"
     ]
    }
   ],
   "source": [
    "print('test')"
   ]
  }
 ],
 "metadata": {
  "kernelspec": {
   "display_name": "Python 3 (ipykernel)",
   "language": "python",
   "name": "python3"
  },
  "language_info": {
   "codemirror_mode": {
    "name": "ipython",
    "version": 3
   },
   "file_extension": ".py",
   "mimetype": "text/x-python",
   "name": "python",
   "nbconvert_exporter": "python",
   "pygments_lexer": "ipython3",
   "version": "3.9.16"
  }
 },
 "nbformat": 4,
 "nbformat_minor": 5
}
